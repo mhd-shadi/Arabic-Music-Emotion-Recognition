{
 "cells": [
  {
   "cell_type": "markdown",
   "metadata": {},
   "source": [
    "<h1>Arabic Music Emotion Recognition</h1>\n",
    "By: MHD SHADI HASAN"
   ]
  },
  {
   "cell_type": "markdown",
   "metadata": {},
   "source": [
    "<h2>Problem Background</h2>"
   ]
  },
  {
   "cell_type": "markdown",
   "metadata": {},
   "source": [
    "For this project, it is required to build a classifier that can predict the emotion of an Arabic music track based on acoustic features. In particular, the model will predict Valence and Arousal ratings as High or Low both separately and combined.\n",
    "\n",
    "**Data**\n",
    "\n",
    "|Feature|Values|\n",
    "|----|----|\n",
    "|SN|Number to identify the record|\n",
    "|participantAge|Age of the participant|\n",
    "|participantSex|Sex of the participant|\n",
    "|title|The title of the track|\n",
    "|artist|Name of the artist|\n",
    "|valence|Valence rating ('H' or 'L')|\n",
    "|arousal|Arousal rating ('H' or 'L')|\n",
    "|durationSec|The duration of the track in seconds|\n",
    "|7 acoustic features|The features from MIRToolbox to be used for training|"
   ]
  },
  {
   "cell_type": "markdown",
   "metadata": {},
   "source": [
    "<h2>Data Exploration</h2>"
   ]
  },
  {
   "cell_type": "code",
   "execution_count": 1,
   "metadata": {},
   "outputs": [],
   "source": [
    "#import needed libraries for analysis\n",
    "import numpy as np\n",
    "import pandas as pd\n",
    "import matplotlib.pyplot as plt\n",
    "import seaborn as sns"
   ]
  },
  {
   "cell_type": "code",
   "execution_count": 2,
   "metadata": {},
   "outputs": [
    {
     "data": {
      "text/html": [
       "<div>\n",
       "<style scoped>\n",
       "    .dataframe tbody tr th:only-of-type {\n",
       "        vertical-align: middle;\n",
       "    }\n",
       "\n",
       "    .dataframe tbody tr th {\n",
       "        vertical-align: top;\n",
       "    }\n",
       "\n",
       "    .dataframe thead th {\n",
       "        text-align: right;\n",
       "    }\n",
       "</style>\n",
       "<table border=\"1\" class=\"dataframe\">\n",
       "  <thead>\n",
       "    <tr style=\"text-align: right;\">\n",
       "      <th></th>\n",
       "      <th>SN</th>\n",
       "      <th>participantAge</th>\n",
       "      <th>participantSex</th>\n",
       "      <th>title</th>\n",
       "      <th>artist</th>\n",
       "      <th>valence</th>\n",
       "      <th>arousal</th>\n",
       "      <th>durationSec</th>\n",
       "      <th>lowEnergy</th>\n",
       "      <th>pulseClarity</th>\n",
       "      <th>zeroCross</th>\n",
       "      <th>rollOff</th>\n",
       "      <th>brightness</th>\n",
       "      <th>centroid</th>\n",
       "      <th>mode</th>\n",
       "    </tr>\n",
       "  </thead>\n",
       "  <tbody>\n",
       "    <tr>\n",
       "      <th>0</th>\n",
       "      <td>1</td>\n",
       "      <td>28</td>\n",
       "      <td>F</td>\n",
       "      <td>Ajabi Ala Harfain</td>\n",
       "      <td>Abdulrahman Mohammad</td>\n",
       "      <td>H</td>\n",
       "      <td>L</td>\n",
       "      <td>578</td>\n",
       "      <td>0.56733</td>\n",
       "      <td>5.198887e+05</td>\n",
       "      <td>488.8226</td>\n",
       "      <td>2756.1493</td>\n",
       "      <td>0.24941</td>\n",
       "      <td>1500.5230</td>\n",
       "      <td>-0.26964</td>\n",
       "    </tr>\n",
       "    <tr>\n",
       "      <th>1</th>\n",
       "      <td>2</td>\n",
       "      <td>24</td>\n",
       "      <td>F</td>\n",
       "      <td>Abu Oyoun Garea</td>\n",
       "      <td>Abdulhalim Hafez</td>\n",
       "      <td>H</td>\n",
       "      <td>H</td>\n",
       "      <td>546</td>\n",
       "      <td>0.51228</td>\n",
       "      <td>8.865148e+05</td>\n",
       "      <td>1055.6710</td>\n",
       "      <td>4925.5142</td>\n",
       "      <td>0.39144</td>\n",
       "      <td>2330.8741</td>\n",
       "      <td>0.13280</td>\n",
       "    </tr>\n",
       "    <tr>\n",
       "      <th>2</th>\n",
       "      <td>3</td>\n",
       "      <td>28</td>\n",
       "      <td>F</td>\n",
       "      <td>Atbaa AlNamroud</td>\n",
       "      <td>AlNamroud</td>\n",
       "      <td>L</td>\n",
       "      <td>H</td>\n",
       "      <td>307</td>\n",
       "      <td>0.34057</td>\n",
       "      <td>1.626029e+06</td>\n",
       "      <td>1632.5438</td>\n",
       "      <td>7707.9163</td>\n",
       "      <td>0.61017</td>\n",
       "      <td>3710.0141</td>\n",
       "      <td>-0.07405</td>\n",
       "    </tr>\n",
       "    <tr>\n",
       "      <th>3</th>\n",
       "      <td>4</td>\n",
       "      <td>20</td>\n",
       "      <td>F</td>\n",
       "      <td>Bint ElShalabiya</td>\n",
       "      <td>Aleph</td>\n",
       "      <td>H</td>\n",
       "      <td>H</td>\n",
       "      <td>465</td>\n",
       "      <td>0.53260</td>\n",
       "      <td>4.177509e+05</td>\n",
       "      <td>960.8992</td>\n",
       "      <td>4503.8223</td>\n",
       "      <td>0.35583</td>\n",
       "      <td>2279.3499</td>\n",
       "      <td>-0.05992</td>\n",
       "    </tr>\n",
       "    <tr>\n",
       "      <th>4</th>\n",
       "      <td>5</td>\n",
       "      <td>23</td>\n",
       "      <td>M</td>\n",
       "      <td>Hodnah</td>\n",
       "      <td>Cairokee</td>\n",
       "      <td>H</td>\n",
       "      <td>L</td>\n",
       "      <td>269</td>\n",
       "      <td>0.51714</td>\n",
       "      <td>1.653696e+05</td>\n",
       "      <td>858.1351</td>\n",
       "      <td>5966.4516</td>\n",
       "      <td>0.42240</td>\n",
       "      <td>2614.5717</td>\n",
       "      <td>0.10055</td>\n",
       "    </tr>\n",
       "  </tbody>\n",
       "</table>\n",
       "</div>"
      ],
      "text/plain": [
       "   SN  participantAge participantSex              title                artist  \\\n",
       "0   1              28              F  Ajabi Ala Harfain  Abdulrahman Mohammad   \n",
       "1   2              24              F    Abu Oyoun Garea      Abdulhalim Hafez   \n",
       "2   3              28              F    Atbaa AlNamroud             AlNamroud   \n",
       "3   4              20              F   Bint ElShalabiya                 Aleph   \n",
       "4   5              23              M             Hodnah              Cairokee   \n",
       "\n",
       "  valence arousal  durationSec  lowEnergy  pulseClarity  zeroCross    rollOff  \\\n",
       "0       H       L          578    0.56733  5.198887e+05   488.8226  2756.1493   \n",
       "1       H       H          546    0.51228  8.865148e+05  1055.6710  4925.5142   \n",
       "2       L       H          307    0.34057  1.626029e+06  1632.5438  7707.9163   \n",
       "3       H       H          465    0.53260  4.177509e+05   960.8992  4503.8223   \n",
       "4       H       L          269    0.51714  1.653696e+05   858.1351  5966.4516   \n",
       "\n",
       "   brightness   centroid     mode  \n",
       "0     0.24941  1500.5230 -0.26964  \n",
       "1     0.39144  2330.8741  0.13280  \n",
       "2     0.61017  3710.0141 -0.07405  \n",
       "3     0.35583  2279.3499 -0.05992  \n",
       "4     0.42240  2614.5717  0.10055  "
      ]
     },
     "execution_count": 2,
     "metadata": {},
     "output_type": "execute_result"
    }
   ],
   "source": [
    "#read data to a pandas dataframe\n",
    "dfRaw = pd.read_excel('MusicData.xlsx')\n",
    "dfRaw.head()"
   ]
  },
  {
   "cell_type": "code",
   "execution_count": 3,
   "metadata": {},
   "outputs": [
    {
     "name": "stdout",
     "output_type": "stream",
     "text": [
      "Age range is between 20 and 28\n",
      "Both sex groups ['F' 'M'] were included\n"
     ]
    }
   ],
   "source": [
    "#participants age range\n",
    "print('Age range is between', dfRaw['participantAge'].min(), 'and', dfRaw['participantAge'].max())\n",
    "\n",
    "#participants sex\n",
    "print('Both sex groups', dfRaw['participantSex'].unique(), 'were included')"
   ]
  },
  {
   "cell_type": "code",
   "execution_count": 4,
   "metadata": {},
   "outputs": [
    {
     "name": "stdout",
     "output_type": "stream",
     "text": [
      "The duration of music audios had ( M = 551.125 , SD = 661.1541497885412 )\n"
     ]
    }
   ],
   "source": [
    "#music duration\n",
    "print('The duration of music audios had ( M =',dfRaw['durationSec'].mean(), ', SD =',dfRaw['durationSec'].std(),')')"
   ]
  },
  {
   "cell_type": "code",
   "execution_count": 5,
   "metadata": {},
   "outputs": [
    {
     "data": {
      "text/html": [
       "<div>\n",
       "<style scoped>\n",
       "    .dataframe tbody tr th:only-of-type {\n",
       "        vertical-align: middle;\n",
       "    }\n",
       "\n",
       "    .dataframe tbody tr th {\n",
       "        vertical-align: top;\n",
       "    }\n",
       "\n",
       "    .dataframe thead th {\n",
       "        text-align: right;\n",
       "    }\n",
       "</style>\n",
       "<table border=\"1\" class=\"dataframe\">\n",
       "  <thead>\n",
       "    <tr style=\"text-align: right;\">\n",
       "      <th></th>\n",
       "      <th>SN</th>\n",
       "      <th>participantAge</th>\n",
       "      <th>participantSex</th>\n",
       "      <th>title</th>\n",
       "      <th>artist</th>\n",
       "      <th>valence</th>\n",
       "      <th>arousal</th>\n",
       "      <th>durationSec</th>\n",
       "      <th>lowEnergy</th>\n",
       "      <th>pulseClarity</th>\n",
       "      <th>zeroCross</th>\n",
       "      <th>rollOff</th>\n",
       "      <th>brightness</th>\n",
       "      <th>centroid</th>\n",
       "      <th>mode</th>\n",
       "      <th>emotionQuadrant</th>\n",
       "    </tr>\n",
       "  </thead>\n",
       "  <tbody>\n",
       "    <tr>\n",
       "      <th>0</th>\n",
       "      <td>1</td>\n",
       "      <td>28</td>\n",
       "      <td>F</td>\n",
       "      <td>Ajabi Ala Harfain</td>\n",
       "      <td>Abdulrahman Mohammad</td>\n",
       "      <td>H</td>\n",
       "      <td>L</td>\n",
       "      <td>578</td>\n",
       "      <td>0.56733</td>\n",
       "      <td>5.198887e+05</td>\n",
       "      <td>488.8226</td>\n",
       "      <td>2756.1493</td>\n",
       "      <td>0.24941</td>\n",
       "      <td>1500.5230</td>\n",
       "      <td>-0.26964</td>\n",
       "      <td>4</td>\n",
       "    </tr>\n",
       "    <tr>\n",
       "      <th>1</th>\n",
       "      <td>2</td>\n",
       "      <td>24</td>\n",
       "      <td>F</td>\n",
       "      <td>Abu Oyoun Garea</td>\n",
       "      <td>Abdulhalim Hafez</td>\n",
       "      <td>H</td>\n",
       "      <td>H</td>\n",
       "      <td>546</td>\n",
       "      <td>0.51228</td>\n",
       "      <td>8.865148e+05</td>\n",
       "      <td>1055.6710</td>\n",
       "      <td>4925.5142</td>\n",
       "      <td>0.39144</td>\n",
       "      <td>2330.8741</td>\n",
       "      <td>0.13280</td>\n",
       "      <td>1</td>\n",
       "    </tr>\n",
       "    <tr>\n",
       "      <th>2</th>\n",
       "      <td>3</td>\n",
       "      <td>28</td>\n",
       "      <td>F</td>\n",
       "      <td>Atbaa AlNamroud</td>\n",
       "      <td>AlNamroud</td>\n",
       "      <td>L</td>\n",
       "      <td>H</td>\n",
       "      <td>307</td>\n",
       "      <td>0.34057</td>\n",
       "      <td>1.626029e+06</td>\n",
       "      <td>1632.5438</td>\n",
       "      <td>7707.9163</td>\n",
       "      <td>0.61017</td>\n",
       "      <td>3710.0141</td>\n",
       "      <td>-0.07405</td>\n",
       "      <td>2</td>\n",
       "    </tr>\n",
       "    <tr>\n",
       "      <th>3</th>\n",
       "      <td>4</td>\n",
       "      <td>20</td>\n",
       "      <td>F</td>\n",
       "      <td>Bint ElShalabiya</td>\n",
       "      <td>Aleph</td>\n",
       "      <td>H</td>\n",
       "      <td>H</td>\n",
       "      <td>465</td>\n",
       "      <td>0.53260</td>\n",
       "      <td>4.177509e+05</td>\n",
       "      <td>960.8992</td>\n",
       "      <td>4503.8223</td>\n",
       "      <td>0.35583</td>\n",
       "      <td>2279.3499</td>\n",
       "      <td>-0.05992</td>\n",
       "      <td>1</td>\n",
       "    </tr>\n",
       "    <tr>\n",
       "      <th>4</th>\n",
       "      <td>5</td>\n",
       "      <td>23</td>\n",
       "      <td>M</td>\n",
       "      <td>Hodnah</td>\n",
       "      <td>Cairokee</td>\n",
       "      <td>H</td>\n",
       "      <td>L</td>\n",
       "      <td>269</td>\n",
       "      <td>0.51714</td>\n",
       "      <td>1.653696e+05</td>\n",
       "      <td>858.1351</td>\n",
       "      <td>5966.4516</td>\n",
       "      <td>0.42240</td>\n",
       "      <td>2614.5717</td>\n",
       "      <td>0.10055</td>\n",
       "      <td>4</td>\n",
       "    </tr>\n",
       "  </tbody>\n",
       "</table>\n",
       "</div>"
      ],
      "text/plain": [
       "   SN  participantAge participantSex              title                artist  \\\n",
       "0   1              28              F  Ajabi Ala Harfain  Abdulrahman Mohammad   \n",
       "1   2              24              F    Abu Oyoun Garea      Abdulhalim Hafez   \n",
       "2   3              28              F    Atbaa AlNamroud             AlNamroud   \n",
       "3   4              20              F   Bint ElShalabiya                 Aleph   \n",
       "4   5              23              M             Hodnah              Cairokee   \n",
       "\n",
       "  valence arousal  durationSec  lowEnergy  pulseClarity  zeroCross    rollOff  \\\n",
       "0       H       L          578    0.56733  5.198887e+05   488.8226  2756.1493   \n",
       "1       H       H          546    0.51228  8.865148e+05  1055.6710  4925.5142   \n",
       "2       L       H          307    0.34057  1.626029e+06  1632.5438  7707.9163   \n",
       "3       H       H          465    0.53260  4.177509e+05   960.8992  4503.8223   \n",
       "4       H       L          269    0.51714  1.653696e+05   858.1351  5966.4516   \n",
       "\n",
       "   brightness   centroid     mode  emotionQuadrant  \n",
       "0     0.24941  1500.5230 -0.26964                4  \n",
       "1     0.39144  2330.8741  0.13280                1  \n",
       "2     0.61017  3710.0141 -0.07405                2  \n",
       "3     0.35583  2279.3499 -0.05992                1  \n",
       "4     0.42240  2614.5717  0.10055                4  "
      ]
     },
     "execution_count": 5,
     "metadata": {},
     "output_type": "execute_result"
    }
   ],
   "source": [
    "#function to compute 'emotionQuadrant'\n",
    "def qurt(VA):\n",
    "    if VA[0]=='H' and VA[1]=='H':\n",
    "        return 1\n",
    "    elif VA[0]=='L' and VA[1]=='H':\n",
    "        return 2\n",
    "    elif VA[0]=='L' and VA[1]=='L':\n",
    "        return 3\n",
    "    else:\n",
    "        return 4\n",
    "\n",
    "#add 'emotionQuadrant' to dataframe\n",
    "dfRaw['emotionQuadrant'] = dfRaw[['valence','arousal']].apply(lambda VA: qurt(VA), axis=1)\n",
    "\n",
    "dfRaw.head()"
   ]
  },
  {
   "cell_type": "code",
   "execution_count": 6,
   "metadata": {},
   "outputs": [
    {
     "name": "stdout",
     "output_type": "stream",
     "text": [
      "H    14\n",
      "L    10\n",
      "Name: valence, dtype: int64\n"
     ]
    },
    {
     "data": {
      "text/plain": [
       "<function matplotlib.pyplot.show(*args, **kw)>"
      ]
     },
     "execution_count": 6,
     "metadata": {},
     "output_type": "execute_result"
    },
    {
     "data": {
      "image/png": "[encoded data removed]",
      "text/plain": [
       "<Figure size 432x288 with 1 Axes>"
      ]
     },
     "metadata": {},
     "output_type": "display_data"
    }
   ],
   "source": [
    "#explore 'valence' ratings\n",
    "print(dfRaw['valence'].value_counts())\n",
    "\n",
    "plt.pie(dfRaw['valence'].value_counts(), autopct='%1.1f%%')\n",
    "plt.legend(labels=['H','L'])\n",
    "plt.title('Valence Ratings')\n",
    "plt.show"
   ]
  },
  {
   "cell_type": "code",
   "execution_count": 7,
   "metadata": {},
   "outputs": [
    {
     "name": "stdout",
     "output_type": "stream",
     "text": [
      "L    14\n",
      "H    10\n",
      "Name: arousal, dtype: int64\n"
     ]
    },
    {
     "data": {
      "text/plain": [
       "<function matplotlib.pyplot.show(*args, **kw)>"
      ]
     },
     "execution_count": 7,
     "metadata": {},
     "output_type": "execute_result"
    },
    {
     "data": {
      "image/png": "[encoded data removed]",
      "text/plain": [
       "<Figure size 432x288 with 1 Axes>"
      ]
     },
     "metadata": {},
     "output_type": "display_data"
    }
   ],
   "source": [
    "#explore 'arousal' ratings\n",
    "print(dfRaw['arousal'].value_counts())\n",
    "\n",
    "plt.pie(dfRaw['arousal'].value_counts(), autopct='%1.1f%%')\n",
    "plt.legend(labels=['L','H'])\n",
    "plt.title('Arousal Ratings')\n",
    "plt.show"
   ]
  },
  {
   "cell_type": "code",
   "execution_count": 8,
   "metadata": {},
   "outputs": [
    {
     "name": "stdout",
     "output_type": "stream",
     "text": [
      "3    8\n",
      "1    8\n",
      "4    6\n",
      "2    2\n",
      "Name: emotionQuadrant, dtype: int64\n"
     ]
    },
    {
     "data": {
      "text/plain": [
       "<function matplotlib.pyplot.show(*args, **kw)>"
      ]
     },
     "execution_count": 8,
     "metadata": {},
     "output_type": "execute_result"
    },
    {
     "data": {
      "image/png": "[encoded data removed]",
      "text/plain": [
       "<Figure size 432x288 with 1 Axes>"
      ]
     },
     "metadata": {},
     "output_type": "display_data"
    }
   ],
   "source": [
    "#explore 'emotionQuadrant' ratings\n",
    "print(dfRaw['emotionQuadrant'].value_counts())\n",
    "\n",
    "plt.pie(dfRaw['emotionQuadrant'].value_counts(), autopct='%1.1f%%')\n",
    "plt.legend(labels=['3rd','1st','4th','2nd'])\n",
    "plt.title('Ratings Distribution Among Quadrants')\n",
    "plt.show"
   ]
  },
  {
   "cell_type": "code",
   "execution_count": 9,
   "metadata": {},
   "outputs": [
    {
     "data": {
      "text/html": [
       "<div>\n",
       "<style scoped>\n",
       "    .dataframe tbody tr th:only-of-type {\n",
       "        vertical-align: middle;\n",
       "    }\n",
       "\n",
       "    .dataframe tbody tr th {\n",
       "        vertical-align: top;\n",
       "    }\n",
       "\n",
       "    .dataframe thead th {\n",
       "        text-align: right;\n",
       "    }\n",
       "</style>\n",
       "<table border=\"1\" class=\"dataframe\">\n",
       "  <thead>\n",
       "    <tr style=\"text-align: right;\">\n",
       "      <th></th>\n",
       "      <th>lowEnergy</th>\n",
       "      <th>pulseClarity</th>\n",
       "      <th>zeroCross</th>\n",
       "      <th>rollOff</th>\n",
       "      <th>brightness</th>\n",
       "      <th>centroid</th>\n",
       "      <th>mode</th>\n",
       "    </tr>\n",
       "  </thead>\n",
       "  <tbody>\n",
       "    <tr>\n",
       "      <th>count</th>\n",
       "      <td>24.000000</td>\n",
       "      <td>2.400000e+01</td>\n",
       "      <td>24.000000</td>\n",
       "      <td>24.000000</td>\n",
       "      <td>24.000000</td>\n",
       "      <td>24.000000</td>\n",
       "      <td>24.000000</td>\n",
       "    </tr>\n",
       "    <tr>\n",
       "      <th>mean</th>\n",
       "      <td>0.527851</td>\n",
       "      <td>3.403663e+05</td>\n",
       "      <td>1574.571742</td>\n",
       "      <td>6177.930587</td>\n",
       "      <td>0.477849</td>\n",
       "      <td>2853.042858</td>\n",
       "      <td>-0.068813</td>\n",
       "    </tr>\n",
       "    <tr>\n",
       "      <th>std</th>\n",
       "      <td>0.063069</td>\n",
       "      <td>3.382231e+05</td>\n",
       "      <td>2080.529341</td>\n",
       "      <td>2090.792539</td>\n",
       "      <td>0.117429</td>\n",
       "      <td>844.092503</td>\n",
       "      <td>0.142821</td>\n",
       "    </tr>\n",
       "    <tr>\n",
       "      <th>min</th>\n",
       "      <td>0.340570</td>\n",
       "      <td>1.097635e+04</td>\n",
       "      <td>488.822600</td>\n",
       "      <td>1739.158600</td>\n",
       "      <td>0.200570</td>\n",
       "      <td>1030.115300</td>\n",
       "      <td>-0.297740</td>\n",
       "    </tr>\n",
       "    <tr>\n",
       "      <th>25%</th>\n",
       "      <td>0.498947</td>\n",
       "      <td>1.638139e+05</td>\n",
       "      <td>851.946775</td>\n",
       "      <td>4731.641250</td>\n",
       "      <td>0.414660</td>\n",
       "      <td>2317.993050</td>\n",
       "      <td>-0.150358</td>\n",
       "    </tr>\n",
       "    <tr>\n",
       "      <th>50%</th>\n",
       "      <td>0.532205</td>\n",
       "      <td>2.747127e+05</td>\n",
       "      <td>1111.003250</td>\n",
       "      <td>6115.442300</td>\n",
       "      <td>0.494960</td>\n",
       "      <td>2894.001850</td>\n",
       "      <td>-0.070293</td>\n",
       "    </tr>\n",
       "    <tr>\n",
       "      <th>75%</th>\n",
       "      <td>0.550550</td>\n",
       "      <td>3.750679e+05</td>\n",
       "      <td>1561.542925</td>\n",
       "      <td>7704.912175</td>\n",
       "      <td>0.529075</td>\n",
       "      <td>3213.590100</td>\n",
       "      <td>0.015013</td>\n",
       "    </tr>\n",
       "    <tr>\n",
       "      <th>max</th>\n",
       "      <td>0.662000</td>\n",
       "      <td>1.626029e+06</td>\n",
       "      <td>11120.145600</td>\n",
       "      <td>10367.992400</td>\n",
       "      <td>0.686050</td>\n",
       "      <td>5073.971000</td>\n",
       "      <td>0.260500</td>\n",
       "    </tr>\n",
       "  </tbody>\n",
       "</table>\n",
       "</div>"
      ],
      "text/plain": [
       "       lowEnergy  pulseClarity     zeroCross       rollOff  brightness  \\\n",
       "count  24.000000  2.400000e+01     24.000000     24.000000   24.000000   \n",
       "mean    0.527851  3.403663e+05   1574.571742   6177.930587    0.477849   \n",
       "std     0.063069  3.382231e+05   2080.529341   2090.792539    0.117429   \n",
       "min     0.340570  1.097635e+04    488.822600   1739.158600    0.200570   \n",
       "25%     0.498947  1.638139e+05    851.946775   4731.641250    0.414660   \n",
       "50%     0.532205  2.747127e+05   1111.003250   6115.442300    0.494960   \n",
       "75%     0.550550  3.750679e+05   1561.542925   7704.912175    0.529075   \n",
       "max     0.662000  1.626029e+06  11120.145600  10367.992400    0.686050   \n",
       "\n",
       "          centroid       mode  \n",
       "count    24.000000  24.000000  \n",
       "mean   2853.042858  -0.068813  \n",
       "std     844.092503   0.142821  \n",
       "min    1030.115300  -0.297740  \n",
       "25%    2317.993050  -0.150358  \n",
       "50%    2894.001850  -0.070293  \n",
       "75%    3213.590100   0.015013  \n",
       "max    5073.971000   0.260500  "
      ]
     },
     "execution_count": 9,
     "metadata": {},
     "output_type": "execute_result"
    }
   ],
   "source": [
    "#analyze acoustic features\n",
    "acousticFeatures = ['lowEnergy', 'pulseClarity', 'zeroCross', 'rollOff', 'brightness', 'centroid', 'mode']\n",
    "\n",
    "dfRaw[acousticFeatures].describe()"
   ]
  },
  {
   "cell_type": "markdown",
   "metadata": {},
   "source": [
    "<h2>Data Preparation</h2>"
   ]
  },
  {
   "cell_type": "code",
   "execution_count": 10,
   "metadata": {},
   "outputs": [
    {
     "data": {
      "image/png": "[encoded data removed]",
      "text/plain": [
       "<Figure size 432x288 with 2 Axes>"
      ]
     },
     "metadata": {
      "needs_background": "light"
     },
     "output_type": "display_data"
    }
   ],
   "source": [
    "#create the correlation matrix for acoustic features\n",
    "corr = dfRaw[acousticFeatures].corr()\n",
    "\n",
    "#generate a mask for the upper triangle \n",
    "mask = np.triu(np.ones_like(corr, dtype=bool))\n",
    "\n",
    "#add the mask to the heatmap\n",
    "sns.heatmap(corr, mask=mask, cmap='coolwarm', center=0, linewidths=1, annot=True, fmt=\".2f\")\n",
    "plt.show()"
   ]
  },
  {
   "cell_type": "code",
   "execution_count": 11,
   "metadata": {},
   "outputs": [
    {
     "data": {
      "image/png": "[encoded data removed]",
      "text/plain": [
       "<Figure size 1260x1260 with 56 Axes>"
      ]
     },
     "metadata": {
      "needs_background": "light"
     },
     "output_type": "display_data"
    }
   ],
   "source": [
    "#see correlation visually\n",
    "sns.pairplot(dfRaw[acousticFeatures], diag_kind='hist')\n",
    "plt.show()"
   ]
  },
  {
   "cell_type": "code",
   "execution_count": 12,
   "metadata": {},
   "outputs": [
    {
     "data": {
      "text/plain": [
       "Index(['SN', 'participantAge', 'participantSex', 'title', 'artist', 'valence',\n",
       "       'arousal', 'durationSec', 'lowEnergy', 'pulseClarity', 'zeroCross',\n",
       "       'rollOff', 'mode', 'emotionQuadrant'],\n",
       "      dtype='object')"
      ]
     },
     "execution_count": 12,
     "metadata": {},
     "output_type": "execute_result"
    }
   ],
   "source": [
    "#drop 2 of the 3 highly correlated features\n",
    "dfRaw.drop(['centroid','brightness'], axis=1, inplace=True)\n",
    "\n",
    "dfRaw.columns"
   ]
  },
  {
   "cell_type": "code",
   "execution_count": 13,
   "metadata": {},
   "outputs": [],
   "source": [
    "#scale the input data\n",
    "from sklearn.preprocessing import StandardScaler\n",
    "\n",
    "ss = StandardScaler()\n",
    "\n",
    "X = ss.fit_transform(dfRaw[['lowEnergy', 'pulseClarity', 'zeroCross', 'rollOff', 'mode']])"
   ]
  },
  {
   "cell_type": "code",
   "execution_count": 14,
   "metadata": {},
   "outputs": [],
   "source": [
    "#identify the 3 target variables\n",
    "y_arousal = dfRaw['arousal']\n",
    "y_valence = dfRaw['valence']\n",
    "y_quad = dfRaw['emotionQuadrant']"
   ]
  },
  {
   "cell_type": "markdown",
   "metadata": {},
   "source": [
    "<h2>Building the Model</h2>"
   ]
  },
  {
   "cell_type": "code",
   "execution_count": 15,
   "metadata": {},
   "outputs": [],
   "source": [
    "#import needed libraries for modeling and validation\n",
    "from sklearn.model_selection import KFold\n",
    "from sklearn.model_selection import cross_val_score\n",
    "import xgboost as xgb\n",
    "from sklearn.metrics import classification_report, accuracy_score, make_scorer"
   ]
  },
  {
   "cell_type": "code",
   "execution_count": 16,
   "metadata": {},
   "outputs": [],
   "source": [
    "#prepare the model\n",
    "model = xgb.XGBClassifier()\n",
    "#prepare the cross-validation procedure\n",
    "cv = KFold(n_splits=5, random_state=1, shuffle=True)"
   ]
  },
  {
   "cell_type": "code",
   "execution_count": 17,
   "metadata": {},
   "outputs": [],
   "source": [
    "#make scorer\n",
    "def classification_report_with_accuracy_score(y_true, y_pred):\n",
    "    \n",
    "    originalclass.extend(y_true)\n",
    "    predictedclass.extend(y_pred)\n",
    "    \n",
    "    return accuracy_score(y_true, y_pred) # return accuracy score"
   ]
  },
  {
   "cell_type": "code",
   "execution_count": 18,
   "metadata": {},
   "outputs": [
    {
     "name": "stdout",
     "output_type": "stream",
     "text": [
      "Predicting Emotion Quadrant\n",
      "              precision    recall  f1-score   support\n",
      "\n",
      "           1       0.12      0.12      0.12         8\n",
      "           2       0.00      0.00      0.00         2\n",
      "           3       0.14      0.12      0.13         8\n",
      "           4       0.22      0.33      0.27         6\n",
      "\n",
      "    accuracy                           0.17        24\n",
      "   macro avg       0.12      0.15      0.13        24\n",
      "weighted avg       0.14      0.17      0.15        24\n",
      "\n"
     ]
    },
    {
     "name": "stderr",
     "output_type": "stream",
     "text": [
      "C:\\Users\\GTS\\Anaconda\\lib\\site-packages\\sklearn\\metrics\\classification.py:1437: UndefinedMetricWarning: Precision and F-score are ill-defined and being set to 0.0 in labels with no predicted samples.\n",
      "  'precision', 'predicted', average, warn_for)\n"
     ]
    }
   ],
   "source": [
    "#variables for classification report\n",
    "originalclass = []\n",
    "predictedclass = []\n",
    "\n",
    "#nested CV\n",
    "score_quad = cross_val_score(model, X=X, y=y_quad, cv=cv, scoring=make_scorer(classification_report_with_accuracy_score))\n",
    "\n",
    "#average values in classification report for all folds in K-fold Cross-validation  \n",
    "print(\"Predicting Emotion Quadrant\")\n",
    "print(classification_report(originalclass, predictedclass)) "
   ]
  },
  {
   "cell_type": "code",
   "execution_count": 19,
   "metadata": {},
   "outputs": [
    {
     "name": "stdout",
     "output_type": "stream",
     "text": [
      "Predicting Arousal\n",
      "              precision    recall  f1-score   support\n",
      "\n",
      "           H       0.60      0.60      0.60        10\n",
      "           L       0.71      0.71      0.71        14\n",
      "\n",
      "    accuracy                           0.67        24\n",
      "   macro avg       0.66      0.66      0.66        24\n",
      "weighted avg       0.67      0.67      0.67        24\n",
      "\n"
     ]
    }
   ],
   "source": [
    "#variables for classification report\n",
    "originalclass = []\n",
    "predictedclass = []\n",
    "\n",
    "#nested CV\n",
    "score_arousal = cross_val_score(model, X=X, y=y_arousal, cv=cv, scoring=make_scorer(classification_report_with_accuracy_score))\n",
    "\n",
    "#average values in classification report for all folds in K-fold Cross-validation  \n",
    "print(\"Predicting Arousal\")\n",
    "print(classification_report(originalclass, predictedclass)) "
   ]
  },
  {
   "cell_type": "code",
   "execution_count": 20,
   "metadata": {},
   "outputs": [
    {
     "name": "stdout",
     "output_type": "stream",
     "text": [
      "Predicting Valence\n",
      "              precision    recall  f1-score   support\n",
      "\n",
      "           H       0.47      0.57      0.52        14\n",
      "           L       0.14      0.10      0.12        10\n",
      "\n",
      "    accuracy                           0.38        24\n",
      "   macro avg       0.31      0.34      0.32        24\n",
      "weighted avg       0.33      0.38      0.35        24\n",
      "\n"
     ]
    }
   ],
   "source": [
    "#variables for classification report\n",
    "originalclass = []\n",
    "predictedclass = []\n",
    "\n",
    "#nested CV\n",
    "score_valence = cross_val_score(model, X=X, y=y_valence, cv=cv, scoring=make_scorer(classification_report_with_accuracy_score))\n",
    "\n",
    "#average values in classification report for all folds in K-fold Cross-validation  \n",
    "print(\"Predicting Valence\") \n",
    "print(classification_report(originalclass, predictedclass)) "
   ]
  },
  {
   "cell_type": "markdown",
   "metadata": {},
   "source": [
    "<h2>Conclusion</h2>"
   ]
  },
  {
   "cell_type": "markdown",
   "metadata": {},
   "source": [
    "The model did a better job predicting Arousal than Valence or Emotion Quadrant"
   ]
  }
 ],
 "metadata": {
  "kernelspec": {
   "display_name": "Python 3",
   "language": "python",
   "name": "python3"
  },
  "language_info": {
   "codemirror_mode": {
    "name": "ipython",
    "version": 3
   },
   "file_extension": ".py",
   "mimetype": "text/x-python",
   "name": "python",
   "nbconvert_exporter": "python",
   "pygments_lexer": "ipython3",
   "version": "3.7.3"
  }
 },
 "nbformat": 4,
 "nbformat_minor": 4
}
